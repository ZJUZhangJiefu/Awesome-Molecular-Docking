{
 "cells": [
  {
   "cell_type": "code",
   "execution_count": 1,
   "metadata": {},
   "outputs": [
    {
     "name": "stderr",
     "output_type": "stream",
     "text": [
      "/usr/local/miniconda3/envs/diffdock/lib/python3.9/site-packages/tqdm/auto.py:21: TqdmWarning: IProgress not found. Please update jupyter and ipywidgets. See https://ipywidgets.readthedocs.io/en/stable/user_install.html\n",
      "  from .autonotebook import tqdm as notebook_tqdm\n"
     ]
    }
   ],
   "source": [
    "# This file gives you a basic knowledge of irreducible representations\n",
    "# which is commonly use in E(3)-Equivariant Neural Networks\n",
    "# reference 1: https://github.com/e3nn/e3nn/\n",
    "# reference 2: https://www.youtube.com/watch?v=q9EwZsHY1sk\n",
    "import e3nn \n",
    "from e3nn import o3"
   ]
  },
  {
   "cell_type": "code",
   "execution_count": 2,
   "metadata": {},
   "outputs": [],
   "source": [
    "# For more detailed knowledge of equivariance, \n",
    "# see: https://www.youtube.com/playlist?list=PL8FnQMH2k7jzPrxqdYufoiYVHim8PyZWd please\n",
    "# 1 Features of tensor product  \n",
    "# (1)Bilinearity: (at1 + t2)×y = at1×y + t2×y  \n",
    "# (2)Equivariance: (Dp)×(Dq) = D(p×q)\n",
    "# D: A group action on the input.  \n",
    "# Meaning of equivariance: The order of taking the tensor product and operation D doesn't matter.  "
   ]
  },
  {
   "cell_type": "code",
   "execution_count": 3,
   "metadata": {},
   "outputs": [],
   "source": [
    "# 2 Basic of irreducible representations\n",
    "# e3nn.o3.Irrep\n",
    "\n",
    "# 2.1 First we initialize a group of parameter\n",
    "# particle 0 at (0, 0, 0)\n",
    "x0, y0, z0 = 0, 0, 0\n",
    "# particle 1 at (1, 1, 1)\n",
    "x1, y1, z1 = 1, 1, 1\n",
    "# the mass of 2 particles\n",
    "m0, m1 = 1, 1\n",
    "# velocities around the 3 axies\n",
    "v0x, v0y, v0z, v1x, v1y, v1z = 1, 1, 1, 1, 1, 1\n",
    "# acceleration is 1\n",
    "a0x, a0y, a0z, a1x, a1y, a1z = 1, 1, 1, 1, 1, 1"
   ]
  },
  {
   "cell_type": "code",
   "execution_count": 4,
   "metadata": {},
   "outputs": [],
   "source": [
    "# 2.2 Classify the information of 2 particles in 3D space  \n",
    "# geometric (positional) information\n",
    "geometry = [[x0, y0, z0], [x1, y1, z1]]\n",
    "# features: mass, velocity and acceleration  \n",
    "# 7 kinds of features for each particle\n",
    "features = [\n",
    "    [m0, v0x, v0y, v0z, a0x, a0y, a0z], \n",
    "    [m1, v1x, v1y, v1z, a1x, a1y, a1z]\n",
    "]\n",
    "# Notice: Mass is scalar, while velocity and acceleration are vector."
   ]
  },
  {
   "cell_type": "code",
   "execution_count": 7,
   "metadata": {},
   "outputs": [
    {
     "data": {
      "text/plain": [
       "1x0e+1x1o+1x1o"
      ]
     },
     "execution_count": 7,
     "metadata": {},
     "output_type": "execute_result"
    }
   ],
   "source": [
    "# 2.3 e3nn.o3.Irrep  \n",
    "# e3nn.o3.Irrep use irreducible representations in O(3) group, \n",
    "# to categorize the features by how they transform under rotation and parity.  \n",
    "# The argument of function e3nn.o3.Irrep() should be a string of length 2 (e.g. \"1e\")\n",
    "# (1) Parameter 1 -- quantum number of a feature, denoted by L, L = 0, 1, ...  \n",
    "# common quantum number:  \n",
    "# 0 for mass, 1 for velocity\n",
    "# for s, p, d, f orbits in hybridization, L = 0, 1, 2, 3.  \n",
    "# (2) Parameter 2 -- Parity\n",
    "# After an operation of \"inversion\", \n",
    "# the value either stays the same (even parity, represented by 'e'), \n",
    "# or add a minus sign (odd parity, represented by 'o').  \n",
    "\n",
    "# the irreducible representation of m0, m1 in the above cell\n",
    "# e means even parity (stay the same over an inversion)\n",
    "# 0: quantum number\n",
    "scalar = e3nn.o3.Irrep(\"0e\") \n",
    "# the irreducible representation of a0x, .../v0x, ... in the above cell\n",
    "# o: odd parity (add a minus sign over an inversion) \n",
    "# 1: quantum number \n",
    "vector = e3nn.o3.Irrep(\"1o\")\n",
    "irreps = 1 * scalar + 1 * vector + 1 * vector\n",
    "# one scalar, and 2 different vectors to describe the feature of particles\n",
    "# notice: the repeated \"1 * vector\"s are not the same thing!\n",
    "# one of them represents the velocity, while the other represents the acceleration\n",
    "irreps"
   ]
  },
  {
   "cell_type": "code",
   "execution_count": 9,
   "metadata": {},
   "outputs": [],
   "source": [
    "# 2.4 atomic orbits (s, p, d, f in hybridization)  \n",
    "Rs_s_orbital = o3.Irrep(\"0e\")\n",
    "Rs_p_orbital = o3.Irrep(\"1o\")\n",
    "Rs_d_orbital = o3.Irrep(\"2e\")\n",
    "Rs_f_orbital = o3.Irrep(\"3o\")"
   ]
  },
  {
   "cell_type": "code",
   "execution_count": 10,
   "metadata": {},
   "outputs": [],
   "source": [
    "# 2.5 Other geometric tensors and there irreducible representations  \n",
    "# vector: --->\n",
    "Rs_vector = o3.Irrep(\"1o\")\n",
    "Rs_pseudovector = o3.Irrep(\"1e\")\n",
    "# doubleray: <--->\n",
    "Rs_doubleray = o3.Irrep(\"2e\")\n",
    "Rs_spiral = o3.Irrep(\"2o\")"
   ]
  }
 ],
 "metadata": {
  "kernelspec": {
   "display_name": "diffdock",
   "language": "python",
   "name": "python3"
  },
  "language_info": {
   "codemirror_mode": {
    "name": "ipython",
    "version": 3
   },
   "file_extension": ".py",
   "mimetype": "text/x-python",
   "name": "python",
   "nbconvert_exporter": "python",
   "pygments_lexer": "ipython3",
   "version": "3.9.18"
  },
  "orig_nbformat": 4
 },
 "nbformat": 4,
 "nbformat_minor": 2
}

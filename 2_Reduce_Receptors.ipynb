{
 "cells": [
  {
   "cell_type": "code",
   "execution_count": null,
   "metadata": {},
   "outputs": [],
   "source": [
    "# See readme for details about installing \"reduce\"\n",
    "import os\n",
    "import subprocess\n",
    "import time\n",
    "from tqdm import tqdm"
   ]
  },
  {
   "cell_type": "code",
   "execution_count": null,
   "metadata": {},
   "outputs": [],
   "source": [
    "start_time = time.time()\n",
    "data_path = 'data/PDBBind'\n",
    "overwrite = False\n",
    "names = sorted(os.listdir(data_path))"
   ]
  },
  {
   "cell_type": "code",
   "execution_count": null,
   "metadata": {},
   "outputs": [],
   "source": [
    "\n",
    "for i, name in tqdm(enumerate(names)):\n",
    "    rec_path = os.path.join(data_path, name, f'{name}_protein_obabel.pdb')\n",
    "    # reduce -Trim: remove (rather than add) hydrogens and skip all optimizations\n",
    "    return_code = subprocess.run(\n",
    "        f\"reduce -Trim {rec_path} > {os.path.join(data_path, name, f'{name}_protein_obabel_reduce_tmp.pdb')}\", shell=True)\n",
    "    print(return_code)\n",
    "    # reduce -HIS: create NH hydrogens on HIS rings\n",
    "    return_code2 = subprocess.run(\n",
    "        f\"reduce -HIS {os.path.join(data_path, name, f'{name}_protein_obabel_reduce_tmp.pdb')} > {os.path.join(data_path, name, f'{name}_protein_obabel_reduce.pdb')}\", shell=True)\n",
    "    print(return_code2)\n",
    "    # remove the temporary files produced when running the above code\n",
    "    return_code2 = subprocess.run(\n",
    "        f\"rm {os.path.join(data_path, name, f'{name}_protein_obabel_reduce_tmp.pdb')}\",\n",
    "        shell=True)\n",
    "    print(return_code2)\n",
    "\n",
    "\n",
    "\n",
    "print(\"--- %s seconds ---\" % (time.time() - start_time))"
   ]
  }
 ],
 "metadata": {
  "language_info": {
   "name": "python"
  },
  "orig_nbformat": 4
 },
 "nbformat": 4,
 "nbformat_minor": 2
}

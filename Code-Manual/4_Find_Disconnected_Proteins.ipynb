{
 "cells": [
  {
   "cell_type": "code",
   "execution_count": null,
   "metadata": {},
   "outputs": [],
   "source": [
    "import glob\n",
    "import os\n",
    "\n",
    "import networkx as nx\n",
    "from biopandas.pdb import PandasPdb\n",
    "\n",
    "from scipy import spatial\n",
    "from tqdm import tqdm\n",
    "import numpy as np\n",
    "import pandas as pd\n"
   ]
  },
  {
   "cell_type": "code",
   "execution_count": null,
   "metadata": {},
   "outputs": [],
   "source": [
    "def write_strings_to_txt(strings: list, path):\n",
    "    # every string of the list will be saved in one line\n",
    "    textfile = open(path, \"w\")\n",
    "    for element in strings:\n",
    "        textfile.write(element + \"\\n\")\n",
    "    textfile.close()"
   ]
  },
  {
   "cell_type": "code",
   "execution_count": null,
   "metadata": {},
   "outputs": [],
   "source": [
    "pdb_path = 'data/PDBBind'\n",
    "pdbbind_names = os.listdir(pdb_path)\n",
    "# read the the index file of PDBBind v2020\n",
    "df_pdb_id = pd.read_csv('data/PDBbind_index/INDEX_general_PL_name.2020', sep=\"  \", comment='#', header=None, names=['complex_name', 'year', 'pdb_id', 'd', 'e','f','g','h','i','j','k','l','m','n','o'])\n",
    "# select the attributes named ['complex_name','year','pdb_id']\n",
    "# year is used in EquiBind, TankBind and DiffDock to split the train and test set of PDBBind v2020\n",
    "df_pdb_id = df_pdb_id[['complex_name','year','pdb_id']]\n",
    "\n",
    "# read and select some other data\n",
    "df_data = pd.read_csv('data/PDBbind_index/INDEX_general_PL_data.2020', sep=\"  \", comment='#', header=None, names=['complex_name','resolution','year', 'logkd', 'kd', 'reference', 'ligand_name', 'a', 'b', 'c'])\n",
    "df_data = df_data[['complex_name','resolution','year', 'logkd', 'kd', 'reference', 'ligand_name']]\n",
    "\n",
    "# distance cutoff: 5A, used to judge whether a protain is connected\n",
    "cutoff = 5\n",
    "connected = []"
   ]
  },
  {
   "cell_type": "code",
   "execution_count": null,
   "metadata": {},
   "outputs": [],
   "source": [
    "for name in tqdm(pdbbind_names):\n",
    "    # read the protein pdb files that have been processed by openbabel and reduce in file 1 and 2\n",
    "    # and select their atoms  \n",
    "    df = PandasPdb().read_pdb(os.path.join(pdb_path, name, f'{name}_protein_obabel_reduce.pdb')).df['ATOM']\n",
    "    # rename the attributes for better understanding\n",
    "    df.rename(columns={'chain_id': 'chain', 'residue_number': 'residue', 'residue_name': 'resname',\n",
    "                       'x_coord': 'x', 'y_coord': 'y', 'z_coord': 'z', 'element_symbol': 'element'}, inplace=True)\n",
    "    # group the protein atoms by different chains\n",
    "    df = list(df.groupby(['chain']))  ## Not the same as sequence order !\n",
    "\n",
    "    chain_coords_list = []\n",
    "    for chain in df:\n",
    "        # get protein chains\n",
    "        chain_coords_list.append(chain[1][['x', 'y', 'z']].to_numpy().squeeze().astype(np.float32))\n",
    "\n",
    "    num_chains = len(chain_coords_list)\n",
    "    distance = np.full((num_chains, num_chains), -np.inf)\n",
    "    # calculate the minimum distance between each pair of chains in the protein\n",
    "    for i in range(num_chains - 1):\n",
    "        for j in range((i + 1), num_chains):\n",
    "            pairwise_dis = spatial.distance.cdist(chain_coords_list[i],chain_coords_list[j])\n",
    "            distance[i, j] = np.min(pairwise_dis)\n",
    "            distance[j, i] = np.min(pairwise_dis)\n",
    "    src_list = []\n",
    "    dst_list = []\n",
    "    \n",
    "    # select protein chains whose distance < cutoff\n",
    "    # source chain -> destination chain\n",
    "    for i in range(num_chains):\n",
    "        dst = list(np.where(distance[i, :] < cutoff)[0])\n",
    "        src = [i] * len(dst)\n",
    "        src_list.extend(src)\n",
    "        dst_list.extend(dst)\n",
    "    # use information source chain -> destination chain to construct a graph\n",
    "    # distance between each pair of source chain and destination chain < cutoff(5A)\n",
    "    graph = nx.Graph()\n",
    "    graph.add_edges_from(zip(src_list, dst_list))\n",
    "    # the graph is connected means: \n",
    "    # do any division of the protein into 2 parts\n",
    "    # (divide it by chains, some chains form a part, and the other chains form another part)\n",
    "    # then the min distance of 2 parts is always smaller than cutoff(5A)\n",
    "    if nx.is_connected(graph):\n",
    "        connected.append(name)\n",
    "    else:\n",
    "        print(f'not connected: {name}')\n",
    "# write the names of complexes (in which the protein is connected) into a new txt file\n",
    "write_strings_to_txt(connected, f'data/complex_names_connected_by_{cutoff}')\n",
    "print(len(connected))"
   ]
  }
 ],
 "metadata": {
  "language_info": {
   "name": "python"
  },
  "orig_nbformat": 4
 },
 "nbformat": 4,
 "nbformat_minor": 2
}

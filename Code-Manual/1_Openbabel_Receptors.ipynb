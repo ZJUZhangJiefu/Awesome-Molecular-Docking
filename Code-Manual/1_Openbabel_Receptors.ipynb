{
 "cells": [
  {
   "cell_type": "code",
   "execution_count": null,
   "metadata": {},
   "outputs": [],
   "source": [
    "\"\"\"\n",
    "WARNING: Too many outputs may lead to the crash of your code editor, so run the `.py` files instead, \n",
    "rather than this `.ipynb` file!\n",
    "\"\"\"\n",
    "\"\"\"\n",
    "First, use openbabel to process the receptors.\n",
    "\"\"\"\n",
    "import os\n",
    "import subprocess\n",
    "import time\n",
    "from tqdm import tqdm"
   ]
  },
  {
   "cell_type": "code",
   "execution_count": null,
   "metadata": {},
   "outputs": [],
   "source": [
    "# record the start time \n",
    "start_time = time.time()\n",
    "# set your own data path of PDBBind\n",
    "data_path = 'data/PDBBind'\n",
    "\"\"\"\n",
    "    Your directory of PDBBind dataset should be like this:  \n",
    "    -PDBBind \n",
    "      -1a0t\n",
    "        -1a0t_ligand.mol2\n",
    "        -1a0t_ligand.sdf\n",
    "        -1a0t_pocket.pdb\n",
    "        -1a0t_protein.pdb\n",
    "      -1a1c\n",
    "      ...\n",
    "\"\"\"\n",
    "overwrite = False\n",
    "# obtain the name of protein-ligand complexes, such as 1a0t, etc.\n",
    "names = sorted(os.listdir(data_path))"
   ]
  },
  {
   "cell_type": "code",
   "execution_count": null,
   "metadata": {},
   "outputs": [],
   "source": [
    "len(names)"
   ]
  },
  {
   "cell_type": "code",
   "execution_count": null,
   "metadata": {},
   "outputs": [],
   "source": [
    "for i, name in tqdm(enumerate(names)):\n",
    "    # the path of receptor(small drug molecule)\n",
    "    rec_path = os.path.join(data_path, name, f'{name}_protein.pdb')\n",
    "    # process the receptor file whose path is rec_path, and output it to f'{name}_protein_obabel.pdb\n",
    "    return_code = subprocess.run(\n",
    "        f\"obabel {rec_path} -O{os.path.join(data_path, name, f'{name}_protein_obabel.pdb')}\", shell=True)\n",
    "    print(return_code)\n"
   ]
  }
 ],
 "metadata": {
  "kernelspec": {
   "display_name": "diffdock",
   "language": "python",
   "name": "python3"
  },
  "language_info": {
   "codemirror_mode": {
    "name": "ipython",
    "version": 3
   },
   "file_extension": ".py",
   "mimetype": "text/x-python",
   "name": "python",
   "nbconvert_exporter": "python",
   "pygments_lexer": "ipython3",
   "version": "3.9.18"
  },
  "orig_nbformat": 4
 },
 "nbformat": 4,
 "nbformat_minor": 2
}
